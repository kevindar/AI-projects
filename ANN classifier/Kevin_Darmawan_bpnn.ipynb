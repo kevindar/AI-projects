{
 "cells": [
  {
   "cell_type": "markdown",
   "metadata": {},
   "source": [
    "# Tugas Individu 3\n",
    "## Classifier menggunakan back propagation ANN\n",
    "Kevin Darmawan(1806148744) \n",
    "\n",
    "**Referensi** :\n",
    "- https://www.kaggle.com/antmarakis/another-neural-network-from-scratch\n",
    "- https://emas2.ui.ac.id/pluginfile.php/1391930/mod_resource/content/0/Classifier%20berbasis%20ANN.pdf \n",
    "- https://github.com/teachtomachines/one-hot-encoding/blob/master/One-Hot%20Encoding.ipynb"
   ]
  },
  {
   "cell_type": "markdown",
   "metadata": {},
   "source": [
    "### 1 : Import library dan data"
   ]
  },
  {
   "cell_type": "code",
   "execution_count": 1,
   "metadata": {},
   "outputs": [],
   "source": [
    "import numpy as np #untuk mathematical operations\n",
    "import pandas as pd #untuk membaca dataset\n",
    "import matplotlib.pyplot as plt #untuk plotting"
   ]
  },
  {
   "cell_type": "code",
   "execution_count": 2,
   "metadata": {},
   "outputs": [
    {
     "data": {
      "text/html": [
       "<div>\n",
       "<style scoped>\n",
       "    .dataframe tbody tr th:only-of-type {\n",
       "        vertical-align: middle;\n",
       "    }\n",
       "\n",
       "    .dataframe tbody tr th {\n",
       "        vertical-align: top;\n",
       "    }\n",
       "\n",
       "    .dataframe thead th {\n",
       "        text-align: right;\n",
       "    }\n",
       "</style>\n",
       "<table border=\"1\" class=\"dataframe\">\n",
       "  <thead>\n",
       "    <tr style=\"text-align: right;\">\n",
       "      <th></th>\n",
       "      <th>Id</th>\n",
       "      <th>SepalLengthCm</th>\n",
       "      <th>SepalWidthCm</th>\n",
       "      <th>PetalLengthCm</th>\n",
       "      <th>PetalWidthCm</th>\n",
       "      <th>Species</th>\n",
       "    </tr>\n",
       "  </thead>\n",
       "  <tbody>\n",
       "    <tr>\n",
       "      <th>0</th>\n",
       "      <td>1</td>\n",
       "      <td>5.1</td>\n",
       "      <td>3.5</td>\n",
       "      <td>1.4</td>\n",
       "      <td>0.2</td>\n",
       "      <td>Iris-setosa</td>\n",
       "    </tr>\n",
       "    <tr>\n",
       "      <th>1</th>\n",
       "      <td>2</td>\n",
       "      <td>4.9</td>\n",
       "      <td>3.0</td>\n",
       "      <td>1.4</td>\n",
       "      <td>0.2</td>\n",
       "      <td>Iris-setosa</td>\n",
       "    </tr>\n",
       "    <tr>\n",
       "      <th>2</th>\n",
       "      <td>3</td>\n",
       "      <td>4.7</td>\n",
       "      <td>3.2</td>\n",
       "      <td>1.3</td>\n",
       "      <td>0.2</td>\n",
       "      <td>Iris-setosa</td>\n",
       "    </tr>\n",
       "    <tr>\n",
       "      <th>3</th>\n",
       "      <td>4</td>\n",
       "      <td>4.6</td>\n",
       "      <td>3.1</td>\n",
       "      <td>1.5</td>\n",
       "      <td>0.2</td>\n",
       "      <td>Iris-setosa</td>\n",
       "    </tr>\n",
       "    <tr>\n",
       "      <th>4</th>\n",
       "      <td>5</td>\n",
       "      <td>5.0</td>\n",
       "      <td>3.6</td>\n",
       "      <td>1.4</td>\n",
       "      <td>0.2</td>\n",
       "      <td>Iris-setosa</td>\n",
       "    </tr>\n",
       "  </tbody>\n",
       "</table>\n",
       "</div>"
      ],
      "text/plain": [
       "   Id  SepalLengthCm  SepalWidthCm  PetalLengthCm  PetalWidthCm      Species\n",
       "0   1            5.1           3.5            1.4           0.2  Iris-setosa\n",
       "1   2            4.9           3.0            1.4           0.2  Iris-setosa\n",
       "2   3            4.7           3.2            1.3           0.2  Iris-setosa\n",
       "3   4            4.6           3.1            1.5           0.2  Iris-setosa\n",
       "4   5            5.0           3.6            1.4           0.2  Iris-setosa"
      ]
     },
     "execution_count": 2,
     "metadata": {},
     "output_type": "execute_result"
    }
   ],
   "source": [
    "# Menggunakan dataset iris dengan load file CSV\n",
    "iris = pd.read_csv(\"Iris.csv\")\n",
    "iris.head()"
   ]
  },
  {
   "cell_type": "markdown",
   "metadata": {},
   "source": [
    "### 2 : Melakukan One Hot Encoding\n",
    "One Hot encoding dilakukan untuk mengencode data kategori dimana Iris memliliki class dengan label string, diubah ke nilai biner 0 dan 1. One Hot Encoding mempermudah untuk merepresentasikan data sebagai matrix dalam pemrosesan pada Feedforward dan Back propagation."
   ]
  },
  {
   "cell_type": "code",
   "execution_count": 3,
   "metadata": {},
   "outputs": [
    {
     "data": {
      "text/html": [
       "<div>\n",
       "<style scoped>\n",
       "    .dataframe tbody tr th:only-of-type {\n",
       "        vertical-align: middle;\n",
       "    }\n",
       "\n",
       "    .dataframe tbody tr th {\n",
       "        vertical-align: top;\n",
       "    }\n",
       "\n",
       "    .dataframe thead th {\n",
       "        text-align: right;\n",
       "    }\n",
       "</style>\n",
       "<table border=\"1\" class=\"dataframe\">\n",
       "  <thead>\n",
       "    <tr style=\"text-align: right;\">\n",
       "      <th></th>\n",
       "      <th>Id</th>\n",
       "      <th>SepalLengthCm</th>\n",
       "      <th>SepalWidthCm</th>\n",
       "      <th>PetalLengthCm</th>\n",
       "      <th>PetalWidthCm</th>\n",
       "      <th>Species_Iris-setosa</th>\n",
       "      <th>Species_Iris-versicolor</th>\n",
       "      <th>Species_Iris-virginica</th>\n",
       "    </tr>\n",
       "  </thead>\n",
       "  <tbody>\n",
       "    <tr>\n",
       "      <th>0</th>\n",
       "      <td>1</td>\n",
       "      <td>5.1</td>\n",
       "      <td>3.5</td>\n",
       "      <td>1.4</td>\n",
       "      <td>0.2</td>\n",
       "      <td>1</td>\n",
       "      <td>0</td>\n",
       "      <td>0</td>\n",
       "    </tr>\n",
       "    <tr>\n",
       "      <th>1</th>\n",
       "      <td>2</td>\n",
       "      <td>4.9</td>\n",
       "      <td>3.0</td>\n",
       "      <td>1.4</td>\n",
       "      <td>0.2</td>\n",
       "      <td>1</td>\n",
       "      <td>0</td>\n",
       "      <td>0</td>\n",
       "    </tr>\n",
       "    <tr>\n",
       "      <th>2</th>\n",
       "      <td>3</td>\n",
       "      <td>4.7</td>\n",
       "      <td>3.2</td>\n",
       "      <td>1.3</td>\n",
       "      <td>0.2</td>\n",
       "      <td>1</td>\n",
       "      <td>0</td>\n",
       "      <td>0</td>\n",
       "    </tr>\n",
       "    <tr>\n",
       "      <th>3</th>\n",
       "      <td>4</td>\n",
       "      <td>4.6</td>\n",
       "      <td>3.1</td>\n",
       "      <td>1.5</td>\n",
       "      <td>0.2</td>\n",
       "      <td>1</td>\n",
       "      <td>0</td>\n",
       "      <td>0</td>\n",
       "    </tr>\n",
       "    <tr>\n",
       "      <th>4</th>\n",
       "      <td>5</td>\n",
       "      <td>5.0</td>\n",
       "      <td>3.6</td>\n",
       "      <td>1.4</td>\n",
       "      <td>0.2</td>\n",
       "      <td>1</td>\n",
       "      <td>0</td>\n",
       "      <td>0</td>\n",
       "    </tr>\n",
       "  </tbody>\n",
       "</table>\n",
       "</div>"
      ],
      "text/plain": [
       "   Id  SepalLengthCm  SepalWidthCm  PetalLengthCm  PetalWidthCm  \\\n",
       "0   1            5.1           3.5            1.4           0.2   \n",
       "1   2            4.9           3.0            1.4           0.2   \n",
       "2   3            4.7           3.2            1.3           0.2   \n",
       "3   4            4.6           3.1            1.5           0.2   \n",
       "4   5            5.0           3.6            1.4           0.2   \n",
       "\n",
       "   Species_Iris-setosa  Species_Iris-versicolor  Species_Iris-virginica  \n",
       "0                    1                        0                       0  \n",
       "1                    1                        0                       0  \n",
       "2                    1                        0                       0  \n",
       "3                    1                        0                       0  \n",
       "4                    1                        0                       0  "
      ]
     },
     "execution_count": 3,
     "metadata": {},
     "output_type": "execute_result"
    }
   ],
   "source": [
    "# One hot encoding\n",
    "iris = pd.get_dummies(iris, columns = ['Species']) # buat separate column\n",
    "iris.head()"
   ]
  },
  {
   "cell_type": "markdown",
   "metadata": {},
   "source": [
    "### 3 : Melakukan splitting untuk training dan testing data\n",
    "Pembagian data training dan testing dengan rasio 70-30: \n",
    "\n",
    "a. Data training = 35 data pertama dari setiap kelas → total 105 data training\n",
    "\n",
    "b. Data testing = 15 data terakhir dari setiap kelas → total 45 data testing"
   ]
  },
  {
   "cell_type": "code",
   "execution_count": 4,
   "metadata": {},
   "outputs": [
    {
     "data": {
      "text/html": [
       "<div>\n",
       "<style scoped>\n",
       "    .dataframe tbody tr th:only-of-type {\n",
       "        vertical-align: middle;\n",
       "    }\n",
       "\n",
       "    .dataframe tbody tr th {\n",
       "        vertical-align: top;\n",
       "    }\n",
       "\n",
       "    .dataframe thead th {\n",
       "        text-align: right;\n",
       "    }\n",
       "</style>\n",
       "<table border=\"1\" class=\"dataframe\">\n",
       "  <thead>\n",
       "    <tr style=\"text-align: right;\">\n",
       "      <th></th>\n",
       "      <th>Id</th>\n",
       "      <th>SepalLengthCm</th>\n",
       "      <th>SepalWidthCm</th>\n",
       "      <th>PetalLengthCm</th>\n",
       "      <th>PetalWidthCm</th>\n",
       "      <th>Species_Iris-setosa</th>\n",
       "      <th>Species_Iris-versicolor</th>\n",
       "      <th>Species_Iris-virginica</th>\n",
       "    </tr>\n",
       "  </thead>\n",
       "  <tbody>\n",
       "    <tr>\n",
       "      <th>0</th>\n",
       "      <td>49</td>\n",
       "      <td>5.3</td>\n",
       "      <td>3.7</td>\n",
       "      <td>1.5</td>\n",
       "      <td>0.2</td>\n",
       "      <td>1</td>\n",
       "      <td>0</td>\n",
       "      <td>0</td>\n",
       "    </tr>\n",
       "    <tr>\n",
       "      <th>1</th>\n",
       "      <td>24</td>\n",
       "      <td>5.1</td>\n",
       "      <td>3.3</td>\n",
       "      <td>1.7</td>\n",
       "      <td>0.5</td>\n",
       "      <td>1</td>\n",
       "      <td>0</td>\n",
       "      <td>0</td>\n",
       "    </tr>\n",
       "    <tr>\n",
       "      <th>2</th>\n",
       "      <td>11</td>\n",
       "      <td>5.4</td>\n",
       "      <td>3.7</td>\n",
       "      <td>1.5</td>\n",
       "      <td>0.2</td>\n",
       "      <td>1</td>\n",
       "      <td>0</td>\n",
       "      <td>0</td>\n",
       "    </tr>\n",
       "    <tr>\n",
       "      <th>3</th>\n",
       "      <td>38</td>\n",
       "      <td>4.9</td>\n",
       "      <td>3.1</td>\n",
       "      <td>1.5</td>\n",
       "      <td>0.1</td>\n",
       "      <td>1</td>\n",
       "      <td>0</td>\n",
       "      <td>0</td>\n",
       "    </tr>\n",
       "    <tr>\n",
       "      <th>4</th>\n",
       "      <td>20</td>\n",
       "      <td>5.1</td>\n",
       "      <td>3.8</td>\n",
       "      <td>1.5</td>\n",
       "      <td>0.3</td>\n",
       "      <td>1</td>\n",
       "      <td>0</td>\n",
       "      <td>0</td>\n",
       "    </tr>\n",
       "  </tbody>\n",
       "</table>\n",
       "</div>"
      ],
      "text/plain": [
       "   Id  SepalLengthCm  SepalWidthCm  PetalLengthCm  PetalWidthCm  \\\n",
       "0  49            5.3           3.7            1.5           0.2   \n",
       "1  24            5.1           3.3            1.7           0.5   \n",
       "2  11            5.4           3.7            1.5           0.2   \n",
       "3  38            4.9           3.1            1.5           0.1   \n",
       "4  20            5.1           3.8            1.5           0.3   \n",
       "\n",
       "   Species_Iris-setosa  Species_Iris-versicolor  Species_Iris-virginica  \n",
       "0                    1                        0                       0  \n",
       "1                    1                        0                       0  \n",
       "2                    1                        0                       0  \n",
       "3                    1                        0                       0  \n",
       "4                    1                        0                       0  "
      ]
     },
     "execution_count": 4,
     "metadata": {},
     "output_type": "execute_result"
    }
   ],
   "source": [
    "# Randomize tiap class\n",
    "setosa = iris.loc[0:50]\n",
    "versicolor = iris.loc[50:100]\n",
    "virginica = iris.loc[100:150]\n",
    "\n",
    "setosa_shuffled=setosa.sample(frac=1).reset_index(drop=True)\n",
    "versicolor_shuffled=versicolor.sample(frac=1).reset_index(drop=True)\n",
    "virginica_shuffled=virginica.sample(frac=1).reset_index(drop=True)\n",
    " \n",
    "# Gabungkan kembali\n",
    "iris = pd.concat([setosa_shuffled, versicolor_shuffled, virginica_shuffled])\n",
    "iris.head()"
   ]
  },
  {
   "cell_type": "code",
   "execution_count": 5,
   "metadata": {},
   "outputs": [
    {
     "name": "stdout",
     "output_type": "stream",
     "text": [
      "[[5.3 3.7 1.5 0.2]\n",
      " [5.1 3.3 1.7 0.5]\n",
      " [5.4 3.7 1.5 0.2]\n",
      " [4.9 3.1 1.5 0.1]\n",
      " [5.1 3.8 1.5 0.3]]\n",
      "<class 'numpy.ndarray'>\n",
      "[[1 0 0]\n",
      " [1 0 0]\n",
      " [1 0 0]\n",
      " [1 0 0]\n",
      " [1 0 0]]\n",
      "<class 'numpy.ndarray'>\n"
     ]
    }
   ],
   "source": [
    "# Mengubah dataframe ke numpy array\n",
    "X = iris[iris.columns[1:5]]\n",
    "X = np.array(X)\n",
    "print(X[:5])\n",
    "print(type(X))\n",
    "\n",
    "Y = iris[iris.columns[5:]]\n",
    "Y = np.array(Y)\n",
    "print(Y[:5])\n",
    "print(type(Y))\n",
    "\n",
    "# Split training data sesuai requirement\n",
    "X_train = X[np.r_[0:35, 50:85, 100:135]]\n",
    "Y_train = Y[np.r_[0:35, 50:85, 100:135]]\n",
    "                   \n",
    "X_test = X[np.r_[35:50, 85:100, 135:150]]\n",
    "Y_test = Y[np.r_[35:50, 85:100, 135:150]]"
   ]
  },
  {
   "cell_type": "code",
   "execution_count": 25,
   "metadata": {},
   "outputs": [
    {
     "name": "stdout",
     "output_type": "stream",
     "text": [
      "<class 'numpy.ndarray'>\n"
     ]
    },
    {
     "data": {
      "text/plain": [
       "array([[5.3, 3.7, 1.5, 0.2],\n",
       "       [5.1, 3.3, 1.7, 0.5],\n",
       "       [5.4, 3.7, 1.5, 0.2],\n",
       "       [4.9, 3.1, 1.5, 0.1],\n",
       "       [5.1, 3.8, 1.5, 0.3]])"
      ]
     },
     "execution_count": 25,
     "metadata": {},
     "output_type": "execute_result"
    }
   ],
   "source": [
    "print(type(X_train))\n",
    "X_train[:5]"
   ]
  },
  {
   "cell_type": "code",
   "execution_count": 7,
   "metadata": {},
   "outputs": [
    {
     "name": "stdout",
     "output_type": "stream",
     "text": [
      "<class 'numpy.ndarray'>\n"
     ]
    },
    {
     "data": {
      "text/plain": [
       "array([[4.7, 3.2, 1.6, 0.2],\n",
       "       [4.9, 3.1, 1.5, 0.1],\n",
       "       [4.6, 3.1, 1.5, 0.2],\n",
       "       [4.5, 2.3, 1.3, 0.3],\n",
       "       [7. , 3.2, 4.7, 1.4]])"
      ]
     },
     "execution_count": 7,
     "metadata": {},
     "output_type": "execute_result"
    }
   ],
   "source": [
    "print(type(X_test))\n",
    "X_test[:5]"
   ]
  },
  {
   "cell_type": "code",
   "execution_count": 8,
   "metadata": {},
   "outputs": [
    {
     "name": "stdout",
     "output_type": "stream",
     "text": [
      "<class 'numpy.ndarray'>\n"
     ]
    },
    {
     "data": {
      "text/plain": [
       "array([[1, 0, 0],\n",
       "       [1, 0, 0],\n",
       "       [1, 0, 0],\n",
       "       [1, 0, 0],\n",
       "       [1, 0, 0]], dtype=uint8)"
      ]
     },
     "execution_count": 8,
     "metadata": {},
     "output_type": "execute_result"
    }
   ],
   "source": [
    "print(type(Y_train))\n",
    "Y_train[:5]"
   ]
  },
  {
   "cell_type": "code",
   "execution_count": 9,
   "metadata": {},
   "outputs": [
    {
     "name": "stdout",
     "output_type": "stream",
     "text": [
      "<class 'numpy.ndarray'>\n"
     ]
    },
    {
     "data": {
      "text/plain": [
       "array([[1, 0, 0],\n",
       "       [1, 0, 0],\n",
       "       [1, 0, 0],\n",
       "       [1, 0, 0],\n",
       "       [0, 1, 0]], dtype=uint8)"
      ]
     },
     "execution_count": 9,
     "metadata": {},
     "output_type": "execute_result"
    }
   ],
   "source": [
    "print(type(Y_test))\n",
    "Y_test[:5]"
   ]
  },
  {
   "cell_type": "markdown",
   "metadata": {},
   "source": [
    "###  4 : Membuat fungsi utama ANN\n",
    "fungsi ini memiliki parameter untuk memasukkan data training, nilai validasi, mengatur epoch (iterasi), jumlah node untuk setiap layer dan learning rate."
   ]
  },
  {
   "cell_type": "code",
   "execution_count": 10,
   "metadata": {},
   "outputs": [],
   "source": [
    "def NeuralNetwork(X_train, Y_train, X_val=None, Y_val=None, epochs=100, nodes=[], lr=0.10):\n",
    "    hidden_layers = len(nodes) - 1\n",
    "    weights = InitWeights(nodes)\n",
    "\n",
    "    for epoch in range(1, epochs+1):\n",
    "        weights = Train(X_train, Y_train, lr, weights)\n",
    "\n",
    "        if(epoch % 20 == 0):\n",
    "            print(\"Epoch {}\".format(epoch))\n",
    "            print(\"Training Accuracy:{}\".format(AccuracyScore(X_train, Y_train, weights)))\n",
    "            if X_val.any():\n",
    "                print(\"Validation Accuracy:{}\".format(AccuracyScore(X_val, Y_val, weights)))\n",
    "            \n",
    "    return weights"
   ]
  },
  {
   "cell_type": "markdown",
   "metadata": {},
   "source": [
    "### 5 : Inisialisasi weight\n",
    "Inisialisasi weight dilakukan dengan metode random dalam range [-0.5, 0,5] menggunakan fungsi ktia menginput node dan menghasilkan weight berupa multidimensional array. Elemen weights merepresntasikan hidden layer dan weight dari layer sebelumnya."
   ]
  },
  {
   "cell_type": "code",
   "execution_count": 11,
   "metadata": {},
   "outputs": [],
   "source": [
    "def InitWeights(nodes):\n",
    "    \"\"\"Inisialisasi weights dengan nilai random range [-0.5, 0.5] (termasuk bias)\"\"\"\n",
    "    layers, weights = len(nodes), []\n",
    "    \n",
    "    for i in range(1, layers):\n",
    "        w = [[np.random.uniform(-0.5, 0.5) for k in range(nodes[i-1] + 1)]\n",
    "              for j in range(nodes[i])]\n",
    "        weights.append(np.matrix(w))\n",
    "    \n",
    "    return weights"
   ]
  },
  {
   "cell_type": "markdown",
   "metadata": {},
   "source": [
    "### 6 : Fungsi Forward Propagation\n",
    "Setiap layer menerima input dan menghasilkan output dari dot product input dan weight tiap layer untuk dikirimkan ke activation function (sigmoid function)\n",
    "- mengkalkulasi nilai input untuk hidden neuron\n",
    "- memasukkan nilai input kedalam fungsi sigmoid menghasilkan output hidden unit\n",
    "- output hidden unit dikirim ke layer setelahnya"
   ]
  },
  {
   "cell_type": "code",
   "execution_count": 12,
   "metadata": {},
   "outputs": [],
   "source": [
    "def ForwardPropagation(x, weights, layers):\n",
    "    activations, layer_input = [x], x\n",
    "    for j in range(layers):\n",
    "        activation = Sigmoid(np.dot(layer_input, weights[j].T))\n",
    "        activations.append(activation)\n",
    "        layer_input = np.append(1, activation) # Augmentasikan weight baru dengan bias\n",
    "    \n",
    "    return activations"
   ]
  },
  {
   "cell_type": "markdown",
   "metadata": {},
   "source": [
    "### 7 : Fungsi Backward Propagation\n",
    "Fungsi ini menghitung error pada hasil akhir, kalkulasi yang dilakukan :\n",
    "- kalkulasi error hidden layer ke output layer\n",
    "- memperbaiki bias dari hidden layer ke output layer\n",
    "- mengkalkulasi delta"
   ]
  },
  {
   "cell_type": "code",
   "execution_count": 13,
   "metadata": {},
   "outputs": [],
   "source": [
    "def BackPropagation(y, activations, weights, layers):\n",
    "    outputFinal = activations[-1]\n",
    "    error = np.matrix(y - outputFinal) # Nilai error pada output\n",
    "    \n",
    "    for j in range(layers, 0, -1):\n",
    "        currActivation = activations[j]\n",
    "        \n",
    "        if(j > 1):\n",
    "            # Tambahkan hasil sigmoid sebelumnya\n",
    "            prevActivation = np.append(1, activations[j-1])\n",
    "        else:\n",
    "            # Hidden layer pertama, prevActivation adalah input tanpa bias\n",
    "            prevActivation = activations[0]\n",
    "        \n",
    "        delta = np.multiply(error, SigmoidDerivative(currActivation))\n",
    "        weights[j-1] += lr * np.multiply(delta.T, prevActivation)\n",
    "\n",
    "        w = np.delete(weights[j-1], [0], axis=1) # Menghilangkan bias dari weights\n",
    "        error = np.dot(delta, w) # Menghitung nilai error untuk layer ini\n",
    "    \n",
    "    return weights"
   ]
  },
  {
   "cell_type": "markdown",
   "metadata": {},
   "source": [
    "### 8 : Melakukan training\n",
    "Mengkalkulasi weight baru dengan melakukan forward propagation diikuti weight updating menggunakan back propagation"
   ]
  },
  {
   "cell_type": "code",
   "execution_count": 14,
   "metadata": {},
   "outputs": [],
   "source": [
    "def Train(X, Y, lr, weights):\n",
    "    layers = len(weights)\n",
    "    for i in range(len(X)):\n",
    "        x, y = X[i], Y[i]\n",
    "        x = np.matrix(np.append(1, x)) # Memasukkan vector berisi features\n",
    "        \n",
    "        activations = ForwardPropagation(x, weights, layers)\n",
    "        weights = BackPropagation(y, activations, weights, layers)\n",
    "\n",
    "    return weights"
   ]
  },
  {
   "cell_type": "markdown",
   "metadata": {},
   "source": [
    "### 9 : Activation function (sigmoid function)"
   ]
  },
  {
   "cell_type": "code",
   "execution_count": 15,
   "metadata": {},
   "outputs": [],
   "source": [
    "def Sigmoid(x):\n",
    "    return 1 / (1 + np.exp(-x))\n",
    "\n",
    "def SigmoidDerivative(x):\n",
    "    return np.multiply(x, 1-x)"
   ]
  },
  {
   "cell_type": "markdown",
   "metadata": {},
   "source": [
    "### 10 : Fungsi testing \n",
    "melakukan prediksi berdasarkan forward propagation dan konversi output dalam bentuk one-hot encoding"
   ]
  },
  {
   "cell_type": "code",
   "execution_count": 16,
   "metadata": {},
   "outputs": [],
   "source": [
    "def Predict(item, weights):\n",
    "    layers = len(weights)\n",
    "    item = np.append(1, item) # Memasukkan vector berisi features\n",
    "    \n",
    "    ##_Forward Propagation_##\n",
    "    activations = ForwardPropagation(item, weights, layers)\n",
    "    \n",
    "    outputFinal = activations[-1].A1\n",
    "    index = FindMaxActivation(outputFinal)\n",
    "\n",
    "    # Inisialisasikan prediction vector dengan nilai 0\n",
    "    y = [0 for i in range(len(outputFinal))]\n",
    "    y[index] = 1  # Set class yang diprediksi ke 1\n",
    "\n",
    "    return y # Return prediction vector\n",
    "\n",
    "\n",
    "def FindMaxActivation(output):\n",
    "    \"\"\"Mencari max activation dalam output\"\"\"\n",
    "    m, index = output[0], 0\n",
    "    for i in range(1, len(output)):\n",
    "        if(output[i] > m):\n",
    "            m, index = output[i], i\n",
    "    \n",
    "    return index"
   ]
  },
  {
   "cell_type": "markdown",
   "metadata": {},
   "source": [
    "### 11 : Fungsi accuracy score\n",
    "persentase keberhasilan menggunakan recognition rate"
   ]
  },
  {
   "cell_type": "code",
   "execution_count": 17,
   "metadata": {},
   "outputs": [],
   "source": [
    "def AccuracyScore(X, Y, weights):\n",
    "    \"\"\"Masukkan set pada ANN, kalkulasikan akurasi keseluruhan\"\"\"\n",
    "    correct = 0\n",
    "\n",
    "    for i in range(len(X)):\n",
    "        x, y = X[i], list(Y[i])\n",
    "        guess = Predict(x, weights)\n",
    "\n",
    "        if(y == guess):\n",
    "            # Hasil prediksi yang benar\n",
    "            correct += 1\n",
    "\n",
    "    return correct / len(X)"
   ]
  },
  {
   "cell_type": "markdown",
   "metadata": {},
   "source": [
    "### 12 : Menguji coba model ANN classifier dengan variasi hyperparameter"
   ]
  },
  {
   "cell_type": "code",
   "execution_count": 18,
   "metadata": {},
   "outputs": [],
   "source": [
    "f = len(X[0]) # Jumlah feature\n",
    "o = len(Y[0]) # Jumlah output / class\n",
    "\n",
    "layers = [f, 5, 10, o] # Jumlah node tiap layer"
   ]
  },
  {
   "cell_type": "markdown",
   "metadata": {},
   "source": [
    "#### A) Menggunakan hyperparameter (learning rate = 0.10 dan epoch = 100)"
   ]
  },
  {
   "cell_type": "code",
   "execution_count": 19,
   "metadata": {
    "scrolled": false
   },
   "outputs": [
    {
     "name": "stdout",
     "output_type": "stream",
     "text": [
      "Epoch 20\n",
      "Training Accuracy:0.6666666666666666\n",
      "Validation Accuracy:0.6444444444444445\n",
      "Epoch 40\n",
      "Training Accuracy:0.6761904761904762\n",
      "Validation Accuracy:0.6444444444444445\n",
      "Epoch 60\n",
      "Training Accuracy:0.7238095238095238\n",
      "Validation Accuracy:0.6444444444444445\n",
      "Epoch 80\n",
      "Training Accuracy:0.8095238095238095\n",
      "Validation Accuracy:0.8222222222222222\n",
      "Epoch 100\n",
      "Training Accuracy:0.8476190476190476\n",
      "Validation Accuracy:0.8888888888888888\n"
     ]
    }
   ],
   "source": [
    "lr, epochs = 0.10, 100\n",
    "weights = NeuralNetwork(X_train, Y_train, X_test, Y_test, epochs=epochs, nodes=layers, lr=lr);\n",
    "\n",
    "training1 = AccuracyScore(X_train, Y_train, weights)\n",
    "testing1 = AccuracyScore(X_test, Y_test, weights)"
   ]
  },
  {
   "cell_type": "markdown",
   "metadata": {},
   "source": [
    "#### B) Menggunakan hyperparameter (learning rate = 0.20 dan epoch = 250) "
   ]
  },
  {
   "cell_type": "code",
   "execution_count": 20,
   "metadata": {
    "scrolled": true
   },
   "outputs": [
    {
     "name": "stdout",
     "output_type": "stream",
     "text": [
      "Epoch 20\n",
      "Training Accuracy:0.3238095238095238\n",
      "Validation Accuracy:0.3333333333333333\n",
      "Epoch 40\n",
      "Training Accuracy:0.3619047619047619\n",
      "Validation Accuracy:0.3333333333333333\n",
      "Epoch 60\n",
      "Training Accuracy:0.7904761904761904\n",
      "Validation Accuracy:0.8222222222222222\n",
      "Epoch 80\n",
      "Training Accuracy:0.8952380952380953\n",
      "Validation Accuracy:0.9333333333333333\n",
      "Epoch 100\n",
      "Training Accuracy:0.9333333333333333\n",
      "Validation Accuracy:0.9777777777777777\n",
      "Epoch 120\n",
      "Training Accuracy:0.9047619047619048\n",
      "Validation Accuracy:0.9333333333333333\n",
      "Epoch 140\n",
      "Training Accuracy:0.7333333333333333\n",
      "Validation Accuracy:0.7111111111111111\n",
      "Epoch 160\n",
      "Training Accuracy:0.9619047619047619\n",
      "Validation Accuracy:0.9777777777777777\n",
      "Epoch 180\n",
      "Training Accuracy:0.9619047619047619\n",
      "Validation Accuracy:0.9777777777777777\n",
      "Epoch 200\n",
      "Training Accuracy:0.9523809523809523\n",
      "Validation Accuracy:0.9555555555555556\n",
      "Epoch 220\n",
      "Training Accuracy:0.9619047619047619\n",
      "Validation Accuracy:0.9777777777777777\n",
      "Epoch 240\n",
      "Training Accuracy:0.9619047619047619\n",
      "Validation Accuracy:0.9777777777777777\n"
     ]
    }
   ],
   "source": [
    "lr, epochs = 0.20, 250\n",
    "weights = NeuralNetwork(X_train, Y_train, X_test, Y_test, epochs=epochs, nodes=layers, lr=lr);\n",
    "\n",
    "training2 = AccuracyScore(X_train, Y_train, weights)\n",
    "testing2 = AccuracyScore(X_test, Y_test, weights)"
   ]
  },
  {
   "cell_type": "markdown",
   "metadata": {},
   "source": [
    "#### c) Menggunakan hyperparameter (learning rate = 0.6 dan epoch = 500)"
   ]
  },
  {
   "cell_type": "code",
   "execution_count": 21,
   "metadata": {
    "scrolled": true
   },
   "outputs": [
    {
     "name": "stdout",
     "output_type": "stream",
     "text": [
      "Epoch 20\n",
      "Training Accuracy:0.3238095238095238\n",
      "Validation Accuracy:0.3333333333333333\n",
      "Epoch 40\n",
      "Training Accuracy:0.7047619047619048\n",
      "Validation Accuracy:0.6444444444444445\n",
      "Epoch 60\n",
      "Training Accuracy:0.8\n",
      "Validation Accuracy:0.8444444444444444\n",
      "Epoch 80\n",
      "Training Accuracy:0.6857142857142857\n",
      "Validation Accuracy:0.6444444444444445\n",
      "Epoch 100\n",
      "Training Accuracy:0.6666666666666666\n",
      "Validation Accuracy:0.6444444444444445\n",
      "Epoch 120\n",
      "Training Accuracy:0.6666666666666666\n",
      "Validation Accuracy:0.6444444444444445\n",
      "Epoch 140\n",
      "Training Accuracy:0.6666666666666666\n",
      "Validation Accuracy:0.6444444444444445\n",
      "Epoch 160\n",
      "Training Accuracy:0.6666666666666666\n",
      "Validation Accuracy:0.6444444444444445\n",
      "Epoch 180\n",
      "Training Accuracy:0.6666666666666666\n",
      "Validation Accuracy:0.6444444444444445\n",
      "Epoch 200\n",
      "Training Accuracy:0.6666666666666666\n",
      "Validation Accuracy:0.6444444444444445\n",
      "Epoch 220\n",
      "Training Accuracy:0.6666666666666666\n",
      "Validation Accuracy:0.6444444444444445\n",
      "Epoch 240\n",
      "Training Accuracy:0.6666666666666666\n",
      "Validation Accuracy:0.6444444444444445\n",
      "Epoch 260\n",
      "Training Accuracy:0.6666666666666666\n",
      "Validation Accuracy:0.6444444444444445\n",
      "Epoch 280\n",
      "Training Accuracy:0.6666666666666666\n",
      "Validation Accuracy:0.6444444444444445\n",
      "Epoch 300\n",
      "Training Accuracy:0.7142857142857143\n",
      "Validation Accuracy:0.6444444444444445\n",
      "Epoch 320\n",
      "Training Accuracy:0.6666666666666666\n",
      "Validation Accuracy:0.6444444444444445\n",
      "Epoch 340\n",
      "Training Accuracy:0.6666666666666666\n",
      "Validation Accuracy:0.6444444444444445\n",
      "Epoch 360\n",
      "Training Accuracy:0.6666666666666666\n",
      "Validation Accuracy:0.6444444444444445\n",
      "Epoch 380\n",
      "Training Accuracy:0.7142857142857143\n",
      "Validation Accuracy:0.6444444444444445\n",
      "Epoch 400\n",
      "Training Accuracy:0.6666666666666666\n",
      "Validation Accuracy:0.6444444444444445\n",
      "Epoch 420\n",
      "Training Accuracy:0.7904761904761904\n",
      "Validation Accuracy:0.8222222222222222\n",
      "Epoch 440\n",
      "Training Accuracy:0.9714285714285714\n",
      "Validation Accuracy:0.9777777777777777\n",
      "Epoch 460\n",
      "Training Accuracy:0.7619047619047619\n",
      "Validation Accuracy:0.7333333333333333\n",
      "Epoch 480\n",
      "Training Accuracy:0.9428571428571428\n",
      "Validation Accuracy:0.9777777777777777\n",
      "Epoch 500\n",
      "Training Accuracy:0.6666666666666666\n",
      "Validation Accuracy:0.6444444444444445\n"
     ]
    }
   ],
   "source": [
    "lr, epochs = 0.60, 500\n",
    "weights = NeuralNetwork(X_train, Y_train, X_test, Y_test, epochs=epochs, nodes=layers, lr=lr);\n",
    "\n",
    "training3 = AccuracyScore(X_train, Y_train, weights)\n",
    "testing3 = AccuracyScore(X_test, Y_test, weights)"
   ]
  },
  {
   "cell_type": "markdown",
   "metadata": {},
   "source": [
    "#### D) Menggunakan hyperparameter (learning rate = 0.05 dan epoch = 500)"
   ]
  },
  {
   "cell_type": "code",
   "execution_count": 22,
   "metadata": {
    "scrolled": true
   },
   "outputs": [
    {
     "name": "stdout",
     "output_type": "stream",
     "text": [
      "Epoch 20\n",
      "Training Accuracy:0.3238095238095238\n",
      "Validation Accuracy:0.3333333333333333\n",
      "Epoch 40\n",
      "Training Accuracy:0.6666666666666666\n",
      "Validation Accuracy:0.6444444444444445\n",
      "Epoch 60\n",
      "Training Accuracy:0.6761904761904762\n",
      "Validation Accuracy:0.6444444444444445\n",
      "Epoch 80\n",
      "Training Accuracy:0.6952380952380952\n",
      "Validation Accuracy:0.6444444444444445\n",
      "Epoch 100\n",
      "Training Accuracy:0.7142857142857143\n",
      "Validation Accuracy:0.6444444444444445\n",
      "Epoch 120\n",
      "Training Accuracy:0.7523809523809524\n",
      "Validation Accuracy:0.7333333333333333\n",
      "Epoch 140\n",
      "Training Accuracy:0.819047619047619\n",
      "Validation Accuracy:0.8444444444444444\n",
      "Epoch 160\n",
      "Training Accuracy:0.8666666666666667\n",
      "Validation Accuracy:0.8666666666666667\n",
      "Epoch 180\n",
      "Training Accuracy:0.9142857142857143\n",
      "Validation Accuracy:0.9333333333333333\n",
      "Epoch 200\n",
      "Training Accuracy:0.9238095238095239\n",
      "Validation Accuracy:0.9333333333333333\n",
      "Epoch 220\n",
      "Training Accuracy:0.9428571428571428\n",
      "Validation Accuracy:0.9555555555555556\n",
      "Epoch 240\n",
      "Training Accuracy:0.9428571428571428\n",
      "Validation Accuracy:0.9777777777777777\n",
      "Epoch 260\n",
      "Training Accuracy:0.9428571428571428\n",
      "Validation Accuracy:0.9777777777777777\n",
      "Epoch 280\n",
      "Training Accuracy:0.9428571428571428\n",
      "Validation Accuracy:0.9777777777777777\n",
      "Epoch 300\n",
      "Training Accuracy:0.9428571428571428\n",
      "Validation Accuracy:0.9777777777777777\n",
      "Epoch 320\n",
      "Training Accuracy:0.9523809523809523\n",
      "Validation Accuracy:0.9777777777777777\n",
      "Epoch 340\n",
      "Training Accuracy:0.9523809523809523\n",
      "Validation Accuracy:0.9777777777777777\n",
      "Epoch 360\n",
      "Training Accuracy:0.9523809523809523\n",
      "Validation Accuracy:0.9777777777777777\n",
      "Epoch 380\n",
      "Training Accuracy:0.9523809523809523\n",
      "Validation Accuracy:0.9777777777777777\n",
      "Epoch 400\n",
      "Training Accuracy:0.9523809523809523\n",
      "Validation Accuracy:1.0\n",
      "Epoch 420\n",
      "Training Accuracy:0.9523809523809523\n",
      "Validation Accuracy:1.0\n",
      "Epoch 440\n",
      "Training Accuracy:0.9523809523809523\n",
      "Validation Accuracy:1.0\n",
      "Epoch 460\n",
      "Training Accuracy:0.9523809523809523\n",
      "Validation Accuracy:1.0\n",
      "Epoch 480\n",
      "Training Accuracy:0.9523809523809523\n",
      "Validation Accuracy:1.0\n",
      "Epoch 500\n",
      "Training Accuracy:0.9523809523809523\n",
      "Validation Accuracy:1.0\n"
     ]
    }
   ],
   "source": [
    "lr, epochs = 0.05, 500\n",
    "weights = NeuralNetwork(X_train, Y_train, X_test, Y_test, epochs=epochs, nodes=layers, lr=lr);\n",
    "\n",
    "training4 = AccuracyScore(X_train, Y_train, weights)\n",
    "testing4 = AccuracyScore(X_test, Y_test, weights)"
   ]
  },
  {
   "cell_type": "markdown",
   "metadata": {},
   "source": [
    "### Rekapitulasi hasil recognition"
   ]
  },
  {
   "cell_type": "code",
   "execution_count": 23,
   "metadata": {},
   "outputs": [],
   "source": [
    "recData = np.array([[training1, testing1],[training2, testing2],[training3, testing3],[training4, testing4]])"
   ]
  },
  {
   "cell_type": "code",
   "execution_count": 24,
   "metadata": {},
   "outputs": [
    {
     "data": {
      "image/png": "[encoded data removed]",
      "text/plain": [
       "<Figure size 432x288 with 1 Axes>"
      ]
     },
     "metadata": {
      "needs_background": "light"
     },
     "output_type": "display_data"
    }
   ],
   "source": [
    "fig, ax =plt.subplots(1,1)\n",
    "column_labels=[\"Training\", \"Test\"]\n",
    "df=pd.DataFrame(recData,columns=column_labels)\n",
    "ax.axis('tight')\n",
    "ax.axis('off')\n",
    "ax.table(cellText=df.values,\n",
    "        colLabels=df.columns,\n",
    "        rowLabels=['Learning rate = 0.10; Epoch = 100', \n",
    "                   'Learning rate = 0.2 ; Epoch = 250', \n",
    "                   'Learning rate = 0.6 ; Epoch = 500', \n",
    "                   'Learning rate = 0.05 ; Epoch = 500'],\n",
    "        rowColours =[\"#36b5d9\"] * 4,  \n",
    "        colColours =[\"#267dc5\"] * 2,\n",
    "        loc=\"center\")\n",
    "plt.show()"
   ]
  }
 ],
 "metadata": {
  "kernelspec": {
   "display_name": "Python 3",
   "language": "python",
   "name": "python3"
  },
  "language_info": {
   "codemirror_mode": {
    "name": "ipython",
    "version": 3
   },
   "file_extension": ".py",
   "mimetype": "text/x-python",
   "name": "python",
   "nbconvert_exporter": "python",
   "pygments_lexer": "ipython3",
   "version": "3.7.3"
  }
 },
 "nbformat": 4,
 "nbformat_minor": 2
}
